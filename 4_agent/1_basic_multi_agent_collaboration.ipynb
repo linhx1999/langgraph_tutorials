{
 "cells": [
  {
   "metadata": {
    "ExecuteTime": {
     "end_time": "2024-09-18T11:28:15.284135Z",
     "start_time": "2024-09-18T11:28:15.271328Z"
    }
   },
   "cell_type": "code",
   "source": [
    "from dotenv import load_dotenv\n",
    "\n",
    "load_dotenv()  # take environment variables from .env."
   ],
   "id": "41357160ec5a388e",
   "outputs": [
    {
     "data": {
      "text/plain": [
       "True"
      ]
     },
     "execution_count": 1,
     "metadata": {},
     "output_type": "execute_result"
    }
   ],
   "execution_count": 1
  },
  {
   "metadata": {
    "ExecuteTime": {
     "end_time": "2024-09-18T11:28:15.835348Z",
     "start_time": "2024-09-18T11:28:15.284135Z"
    }
   },
   "cell_type": "code",
   "source": [
    "from langchain_core.messages import (\n",
    "    BaseMessage,\n",
    ")\n",
    "from langchain_core.prompts import ChatPromptTemplate, MessagesPlaceholder\n",
    "\n",
    "\n",
    "\n",
    "def create_agent(llm, tools, system_message: str):\n",
    "    \"\"\"Create an agent.\"\"\"\n",
    "    prompt = ChatPromptTemplate.from_messages(\n",
    "        [\n",
    "            (\n",
    "                \"system\",\n",
    "                \"You are a helpful AI assistant, collaborating with other assistants.\"\n",
    "                \" Use the provided tools to progress towards answering the question.\"\n",
    "                \" If you are unable to fully answer, that's OK, another assistant with different tools \"\n",
    "                \" will help where you left off. Execute what you can to make progress.\"\n",
    "                \" If you or any of the other assistants have the final answer or deliverable,\"\n",
    "                \" prefix your response with FINAL ANSWER so the team knows to stop.\"\n",
    "                \" You have access to the following tools: {tool_names}.\\n{system_message}\",\n",
    "            ),\n",
    "            MessagesPlaceholder(variable_name=\"messages\"),\n",
    "        ]\n",
    "    )\n",
    "    prompt = prompt.partial(\n",
    "        system_message=system_message,\n",
    "        tool_names=\", \".join([tool.name for tool in tools])\n",
    "    )\n",
    "    return prompt | llm.bind_tools(tools)"
   ],
   "id": "c5a00fdbd3b6c97e",
   "outputs": [],
   "execution_count": 2
  },
  {
   "metadata": {
    "ExecuteTime": {
     "end_time": "2024-09-18T11:28:15.865795Z",
     "start_time": "2024-09-18T11:28:15.835348Z"
    }
   },
   "cell_type": "code",
   "source": [
    "from typing import Annotated\n",
    "\n",
    "from langchain_core.tools import tool\n",
    "from langchain_experimental.utilities.python import PythonREPL\n",
    "from langchain_core.tools import BaseTool\n",
    "\n",
    "# tavily_tool = TavilySearchResults(max_results=5)\n",
    "\n",
    "class CustomSearch(BaseTool):\n",
    "    \"\"\"Tool that queries the CustomSearch.\"\"\"\n",
    "\n",
    "    name: str = \"custom_search\"\n",
    "    description: str = (\n",
    "        \"a search engine. \"\n",
    "        \"useful for when you need to answer questions about current events.\"\n",
    "        \" input should be a search query.\"\n",
    "    )\n",
    "\n",
    "    def _run(\n",
    "        self,\n",
    "        query: str,\n",
    "    ) -> str:\n",
    "        \"\"\"Use the tool.\"\"\"\n",
    "        return f\"custom_search_wrapper.run({query})\"\n",
    "\n",
    "\n",
    "search_tool = CustomSearch()\n",
    "\n",
    "# Warning: This executes code locally, which can be unsafe when not sandboxed\n",
    "\n",
    "repl = PythonREPL()\n",
    "\n",
    "@tool\n",
    "def python_repl(\n",
    "    code: Annotated[str, \"The python code to execute to generate your chart.\"],\n",
    "):\n",
    "    \"\"\"Use this to execute python code. If you want to see the output of a value,\n",
    "    you should print it out with `print(...)`. This is visible to the user.\"\"\"\n",
    "    try:\n",
    "        result = repl.run(code)\n",
    "    except BaseException as e:\n",
    "        return f\"Failed to execute. Error: {repr(e)}\"\n",
    "    result_str = f\"Successfully executed:\\n```python\\n{code}\\n```\\nStdout: {result}\"\n",
    "    return (\n",
    "        result_str + \"\\n\\nIf you have completed all tasks, respond with FINAL ANSWER.\"\n",
    "    )"
   ],
   "id": "3e8b1027d1d8db45",
   "outputs": [],
   "execution_count": 3
  },
  {
   "metadata": {
    "ExecuteTime": {
     "end_time": "2024-09-18T11:28:15.894885Z",
     "start_time": "2024-09-18T11:28:15.865795Z"
    }
   },
   "cell_type": "code",
   "source": [
    "import operator\n",
    "from typing import Annotated, Sequence, TypedDict\n",
    "from langgraph.graph import MessagesState\n",
    "\n",
    "\n",
    "# This defines the object that is passed between each node\n",
    "# in the graph. We will create different nodes for each agent and tool\n",
    "class AgentState(MessagesState):\n",
    "    # messages: Annotated[Sequence[BaseMessage], operator.add]\n",
    "    sender: str"
   ],
   "id": "4651e5e0b873601f",
   "outputs": [],
   "execution_count": 4
  },
  {
   "metadata": {
    "ExecuteTime": {
     "end_time": "2024-09-18T11:28:16.895993Z",
     "start_time": "2024-09-18T11:28:15.894885Z"
    }
   },
   "cell_type": "code",
   "source": [
    "import functools\n",
    "\n",
    "from langchain_core.messages import AIMessage\n",
    "from langchain_core.messages import ToolMessage\n",
    "from langchain_openai import ChatOpenAI\n",
    "\n",
    "# Helper function to create a node for a given agent\n",
    "def agent_node(state: AgentState, agent, name):\n",
    "    result = agent.invoke(state)\n",
    "    # We convert the agent output into a format that is suitable to append to the global state\n",
    "    if isinstance(result, ToolMessage):\n",
    "        pass\n",
    "    else:\n",
    "        result = AIMessage(**result.dict(exclude={\"type\", \"name\"}), name=name)\n",
    "    return {\n",
    "        \"messages\": [result],\n",
    "        # Since we have a strict workflow, we can\n",
    "        # track the sender so we know who to pass to next.\n",
    "        \"sender\": name,\n",
    "    }\n",
    "\n",
    "\n",
    "llm = ChatOpenAI(model=\"gpt-4o-mini\")\n",
    "\n",
    "# Research agent and node\n",
    "research_agent = create_agent(\n",
    "    llm,\n",
    "    [search_tool],\n",
    "    system_message=\"You should provide accurate data for the chart_generator to use.\",\n",
    ")\n",
    "research_node = functools.partial(agent_node, agent=research_agent, name=\"Researcher\")\n",
    "\n",
    "# chart_generator\n",
    "chart_agent = create_agent(\n",
    "    llm,\n",
    "    [python_repl],\n",
    "    system_message=\"Any charts you display will be visible by the user.\",\n",
    ")\n",
    "chart_node = functools.partial(agent_node, agent=chart_agent, name=\"chart_generator\")"
   ],
   "id": "84622a067a75ac64",
   "outputs": [],
   "execution_count": 5
  },
  {
   "metadata": {
    "ExecuteTime": {
     "end_time": "2024-09-18T11:28:16.903838Z",
     "start_time": "2024-09-18T11:28:16.895993Z"
    }
   },
   "cell_type": "code",
   "source": [
    "from langgraph.prebuilt import ToolNode\n",
    "\n",
    "tools = [search_tool, python_repl]\n",
    "tool_node = ToolNode(tools)"
   ],
   "id": "37b94033af7d9ac7",
   "outputs": [],
   "execution_count": 6
  },
  {
   "metadata": {
    "ExecuteTime": {
     "end_time": "2024-09-18T11:28:16.910458Z",
     "start_time": "2024-09-18T11:28:16.903838Z"
    }
   },
   "cell_type": "code",
   "source": [
    "# Either agent can decide to end\n",
    "from typing import Literal\n",
    "\n",
    "from langgraph.graph import END, StateGraph, START\n",
    "\n",
    "def router(state) -> Literal[tool_node.name, END, \"continue\"]:\n",
    "    # This is the router\n",
    "    messages = state[\"messages\"]\n",
    "    last_message = messages[-1]\n",
    "    if last_message.tool_calls:\n",
    "        # The previous agent is invoking a tool\n",
    "        return tool_node.name\n",
    "    if \"FINAL ANSWER\" in last_message.content:\n",
    "        # Any agent decided the work is done\n",
    "        return END\n",
    "    return \"continue\""
   ],
   "id": "64d3c4a326eef569",
   "outputs": [],
   "execution_count": 7
  },
  {
   "metadata": {
    "ExecuteTime": {
     "end_time": "2024-09-18T11:28:48.330496Z",
     "start_time": "2024-09-18T11:28:48.325267Z"
    }
   },
   "cell_type": "code",
   "source": [
    "workflow = StateGraph(AgentState)\n",
    "\n",
    "workflow.add_node(\"Researcher\", research_node)\n",
    "workflow.add_node(\"chart_generator\", chart_node)\n",
    "workflow.add_node(tool_node.name, tool_node)\n",
    "\n",
    "workflow.add_conditional_edges(\n",
    "    \"Researcher\",\n",
    "    router,\n",
    "    {\"continue\": \"chart_generator\", tool_node.name: tool_node.name, END: END},\n",
    ")\n",
    "workflow.add_conditional_edges(\n",
    "    \"chart_generator\",\n",
    "    router,\n",
    "    {\"continue\": \"Researcher\", tool_node.name: tool_node.name, END: END},\n",
    ")\n",
    "\n",
    "workflow.add_conditional_edges(\n",
    "    # \"call_tool\",\n",
    "    tool_node.name,\n",
    "    # Each agent node updates the 'sender' field\n",
    "    # the tool calling node does not, meaning\n",
    "    # this edge will route back to the original agent\n",
    "    # who invoked the tool\n",
    "    lambda x: x[\"sender\"],\n",
    "    {\n",
    "        \"Researcher\": \"Researcher\",\n",
    "        \"chart_generator\": \"chart_generator\",\n",
    "    },\n",
    ")\n",
    "workflow.add_edge(START, \"Researcher\")\n",
    "graph = workflow.compile()"
   ],
   "id": "2e497eb564d4d28e",
   "outputs": [],
   "execution_count": 9
  },
  {
   "metadata": {
    "ExecuteTime": {
     "end_time": "2024-09-18T11:28:51.638558Z",
     "start_time": "2024-09-18T11:28:49.963986Z"
    }
   },
   "cell_type": "code",
   "source": [
    "from IPython.display import Image, display\n",
    "\n",
    "try:\n",
    "    display(Image(graph.get_graph().draw_mermaid_png()))\n",
    "except Exception:\n",
    "    # This requires some extra dependencies and is optional\n",
    "    pass"
   ],
   "id": "21aae8dc63884867",
   "outputs": [
    {
     "data": {
      "image/jpeg": "[encoded data removed]",
      "text/plain": [
       "<IPython.core.display.Image object>"
      ]
     },
     "metadata": {},
     "output_type": "display_data"
    }
   ],
   "execution_count": 10
  },
  {
   "metadata": {
    "ExecuteTime": {
     "end_time": "2024-09-18T11:29:57.147737Z",
     "start_time": "2024-09-18T11:29:48.750238Z"
    }
   },
   "cell_type": "code",
   "source": [
    "from langchain_core.messages import HumanMessage\n",
    "\n",
    "events = graph.stream(\n",
    "    {\n",
    "        \"messages\": [\n",
    "            HumanMessage(\n",
    "                content=\"Fetch the UK's GDP over the past 5 years,\"\n",
    "                \" then draw a line graph of it.\"\n",
    "                \" Once you code it up, finish.\"\n",
    "            )\n",
    "        ],\n",
    "    },\n",
    "    # Maximum number of steps to take in the graph\n",
    "    {\"recursion_limit\": 150},\n",
    ")\n",
    "for s in events:\n",
    "    print(s)\n",
    "    print(\"----\")"
   ],
   "id": "dc8c73aae849da1a",
   "outputs": [
    {
     "name": "stdout",
     "output_type": "stream",
     "text": [
      "{'Researcher': {'messages': [AIMessage(content='', additional_kwargs={'tool_calls': [{'id': 'call_TWkn7eb0HroDuDCatFIaHqeJ', 'function': {'arguments': '{\"query\":\"UK GDP data past 5 years\"}', 'name': 'custom_search'}, 'type': 'function', 'index': 0}], 'refusal': None}, response_metadata={'token_usage': {'completion_tokens': 20, 'prompt_tokens': 195, 'total_tokens': 215, 'completion_tokens_details': {'reasoning_tokens': 0}}, 'model_name': 'gpt-4o-mini-2024-07-18', 'system_fingerprint': 'fp_483d39d857', 'finish_reason': 'tool_calls', 'logprobs': None}, name='Researcher', id='run-bf594a3f-62fc-46fe-b3f6-de57e6ae4930-0', tool_calls=[{'name': 'custom_search', 'args': {'query': 'UK GDP data past 5 years'}, 'id': 'call_TWkn7eb0HroDuDCatFIaHqeJ', 'type': 'tool_call'}], usage_metadata={'input_tokens': 195, 'output_tokens': 20, 'total_tokens': 215})], 'sender': 'Researcher'}}\n",
      "----\n",
      "{'tools': {'messages': [ToolMessage(content='custom_search_wrapper.run(UK GDP data past 5 years)', name='custom_search', id='0c9cad2b-7a8c-4460-a235-7aaa2fe4a36f', tool_call_id='call_TWkn7eb0HroDuDCatFIaHqeJ')]}}\n",
      "----\n",
      "{'Researcher': {'messages': [AIMessage(content='', additional_kwargs={'tool_calls': [{'id': 'call_BcLDTrtvrXswBHDfDzKfIYUF', 'function': {'arguments': '{\"query\":\"UK GDP historical data 2018 2019 2020 2021 2022 2023\"}', 'name': 'custom_search'}, 'type': 'function', 'index': 0}], 'refusal': None}, response_metadata={'token_usage': {'completion_tokens': 35, 'prompt_tokens': 239, 'total_tokens': 274, 'completion_tokens_details': {'reasoning_tokens': 0}}, 'model_name': 'gpt-4o-mini-2024-07-18', 'system_fingerprint': 'fp_483d39d857', 'finish_reason': 'tool_calls', 'logprobs': None}, name='Researcher', id='run-3cc68f3a-63c5-4e2b-bd1f-d336d791aa76-0', tool_calls=[{'name': 'custom_search', 'args': {'query': 'UK GDP historical data 2018 2019 2020 2021 2022 2023'}, 'id': 'call_BcLDTrtvrXswBHDfDzKfIYUF', 'type': 'tool_call'}], usage_metadata={'input_tokens': 239, 'output_tokens': 35, 'total_tokens': 274})], 'sender': 'Researcher'}}\n",
      "----\n",
      "{'tools': {'messages': [ToolMessage(content='custom_search_wrapper.run(UK GDP historical data 2018 2019 2020 2021 2022 2023)', name='custom_search', id='49e2d5c9-d761-43ca-8b8d-6da6f1bbc9dc', tool_call_id='call_BcLDTrtvrXswBHDfDzKfIYUF')]}}\n",
      "----\n",
      "{'Researcher': {'messages': [AIMessage(content='', additional_kwargs={'tool_calls': [{'id': 'call_rcW1zq6LBIL1qBsJpmOosoxp', 'function': {'arguments': '{\"query\":\"UK GDP data 2018 2019 2020 2021 2022 2023\"}', 'name': 'custom_search'}, 'type': 'function', 'index': 0}], 'refusal': None}, response_metadata={'token_usage': {'completion_tokens': 34, 'prompt_tokens': 313, 'total_tokens': 347, 'completion_tokens_details': {'reasoning_tokens': 0}}, 'model_name': 'gpt-4o-mini-2024-07-18', 'system_fingerprint': 'fp_483d39d857', 'finish_reason': 'tool_calls', 'logprobs': None}, name='Researcher', id='run-2a9ad353-db72-4bd5-ab18-f0fd46f55d3f-0', tool_calls=[{'name': 'custom_search', 'args': {'query': 'UK GDP data 2018 2019 2020 2021 2022 2023'}, 'id': 'call_rcW1zq6LBIL1qBsJpmOosoxp', 'type': 'tool_call'}], usage_metadata={'input_tokens': 313, 'output_tokens': 34, 'total_tokens': 347})], 'sender': 'Researcher'}}\n",
      "----\n",
      "{'tools': {'messages': [ToolMessage(content='custom_search_wrapper.run(UK GDP data 2018 2019 2020 2021 2022 2023)', name='custom_search', id='cd3c5b12-0fc3-47be-9812-1749da84dd14', tool_call_id='call_rcW1zq6LBIL1qBsJpmOosoxp')]}}\n",
      "----\n",
      "{'Researcher': {'messages': [AIMessage(content='', additional_kwargs={'tool_calls': [{'id': 'call_3WD8c7fOysTI7aAUUYEO4cqn', 'function': {'arguments': '{\"query\": \"UK GDP data 2018\"}', 'name': 'custom_search'}, 'type': 'function', 'index': 0}, {'id': 'call_ofnBkrL6eUSdJfhg2vFnTcYT', 'function': {'arguments': '{\"query\": \"UK GDP data 2019\"}', 'name': 'custom_search'}, 'type': 'function', 'index': 0}, {'id': 'call_wEGmZH6wFVO2JzTlpu5N94rq', 'function': {'arguments': '{\"query\": \"UK GDP data 2020\"}', 'name': 'custom_search'}, 'type': 'function', 'index': 0}, {'id': 'call_xPmKdzuqRWOzthpCxHwK4Y2m', 'function': {'arguments': '{\"query\": \"UK GDP data 2021\"}', 'name': 'custom_search'}, 'type': 'function', 'index': 0}, {'id': 'call_ir6zFBn9C5YngbazEKA8J2Tx', 'function': {'arguments': '{\"query\": \"UK GDP data 2022\"}', 'name': 'custom_search'}, 'type': 'function', 'index': 0}, {'id': 'call_pxjAmeLvi1Ew5d9IDRHXmsPW', 'function': {'arguments': '{\"query\": \"UK GDP data 2023\"}', 'name': 'custom_search'}, 'type': 'function', 'index': 0}], 'refusal': None}, response_metadata={'token_usage': {'completion_tokens': 130, 'prompt_tokens': 385, 'total_tokens': 515, 'completion_tokens_details': {'reasoning_tokens': 0}}, 'model_name': 'gpt-4o-mini-2024-07-18', 'system_fingerprint': 'fp_483d39d857', 'finish_reason': 'tool_calls', 'logprobs': None}, name='Researcher', id='run-91faaa42-41d2-4756-9303-2661c341bc9e-0', tool_calls=[{'name': 'custom_search', 'args': {'query': 'UK GDP data 2018'}, 'id': 'call_3WD8c7fOysTI7aAUUYEO4cqn', 'type': 'tool_call'}, {'name': 'custom_search', 'args': {'query': 'UK GDP data 2019'}, 'id': 'call_ofnBkrL6eUSdJfhg2vFnTcYT', 'type': 'tool_call'}, {'name': 'custom_search', 'args': {'query': 'UK GDP data 2020'}, 'id': 'call_wEGmZH6wFVO2JzTlpu5N94rq', 'type': 'tool_call'}, {'name': 'custom_search', 'args': {'query': 'UK GDP data 2021'}, 'id': 'call_xPmKdzuqRWOzthpCxHwK4Y2m', 'type': 'tool_call'}, {'name': 'custom_search', 'args': {'query': 'UK GDP data 2022'}, 'id': 'call_ir6zFBn9C5YngbazEKA8J2Tx', 'type': 'tool_call'}, {'name': 'custom_search', 'args': {'query': 'UK GDP data 2023'}, 'id': 'call_pxjAmeLvi1Ew5d9IDRHXmsPW', 'type': 'tool_call'}], usage_metadata={'input_tokens': 385, 'output_tokens': 130, 'total_tokens': 515})], 'sender': 'Researcher'}}\n",
      "----\n",
      "{'tools': {'messages': [ToolMessage(content='custom_search_wrapper.run(UK GDP data 2018)', name='custom_search', id='13bc58c3-154e-4c38-8c6b-61832706f95c', tool_call_id='call_3WD8c7fOysTI7aAUUYEO4cqn'), ToolMessage(content='custom_search_wrapper.run(UK GDP data 2019)', name='custom_search', id='bdd61101-9a31-4f6a-82d3-400ed14b940b', tool_call_id='call_ofnBkrL6eUSdJfhg2vFnTcYT'), ToolMessage(content='custom_search_wrapper.run(UK GDP data 2020)', name='custom_search', id='1a5138fa-d7e9-4611-a7f1-bdb9328a8199', tool_call_id='call_wEGmZH6wFVO2JzTlpu5N94rq'), ToolMessage(content='custom_search_wrapper.run(UK GDP data 2021)', name='custom_search', id='fb593b1e-4e52-4643-89f1-0662e139bdf5', tool_call_id='call_xPmKdzuqRWOzthpCxHwK4Y2m'), ToolMessage(content='custom_search_wrapper.run(UK GDP data 2022)', name='custom_search', id='902b5188-f1db-4ade-a32e-f3f45c147a0e', tool_call_id='call_ir6zFBn9C5YngbazEKA8J2Tx'), ToolMessage(content='custom_search_wrapper.run(UK GDP data 2023)', name='custom_search', id='8623d0f4-4508-4c3c-a49b-b440bd4571c8', tool_call_id='call_pxjAmeLvi1Ew5d9IDRHXmsPW')]}}\n",
      "----\n",
      "{'Researcher': {'messages': [AIMessage(content='', additional_kwargs={'tool_calls': [{'id': 'call_9R3Z7jlYAbKsCeLOB2PFgz54', 'function': {'arguments': '{\"query\": \"UK GDP 2018 value\"}', 'name': 'custom_search'}, 'type': 'function', 'index': 0}, {'id': 'call_OKz9oiWoDFaFJeNPTrDiBMOz', 'function': {'arguments': '{\"query\": \"UK GDP 2019 value\"}', 'name': 'custom_search'}, 'type': 'function', 'index': 0}, {'id': 'call_D6SaSPhfx8XnoJmNWSJkk2zO', 'function': {'arguments': '{\"query\": \"UK GDP 2020 value\"}', 'name': 'custom_search'}, 'type': 'function', 'index': 0}, {'id': 'call_2P0ASTPDgVzJXiL84FdVpHOh', 'function': {'arguments': '{\"query\": \"UK GDP 2021 value\"}', 'name': 'custom_search'}, 'type': 'function', 'index': 0}, {'id': 'call_ZoQTWNoqSvBvVEnfosVCGSQW', 'function': {'arguments': '{\"query\": \"UK GDP 2022 value\"}', 'name': 'custom_search'}, 'type': 'function', 'index': 0}, {'id': 'call_BwbNQOxZhaE68vZ05STNWyup', 'function': {'arguments': '{\"query\": \"UK GDP 2023 value\"}', 'name': 'custom_search'}, 'type': 'function', 'index': 0}], 'refusal': None}, response_metadata={'token_usage': {'completion_tokens': 130, 'prompt_tokens': 607, 'total_tokens': 737, 'completion_tokens_details': {'reasoning_tokens': 0}}, 'model_name': 'gpt-4o-mini-2024-07-18', 'system_fingerprint': 'fp_483d39d857', 'finish_reason': 'tool_calls', 'logprobs': None}, name='Researcher', id='run-09f234ee-5eb4-46c6-a066-a320115370b8-0', tool_calls=[{'name': 'custom_search', 'args': {'query': 'UK GDP 2018 value'}, 'id': 'call_9R3Z7jlYAbKsCeLOB2PFgz54', 'type': 'tool_call'}, {'name': 'custom_search', 'args': {'query': 'UK GDP 2019 value'}, 'id': 'call_OKz9oiWoDFaFJeNPTrDiBMOz', 'type': 'tool_call'}, {'name': 'custom_search', 'args': {'query': 'UK GDP 2020 value'}, 'id': 'call_D6SaSPhfx8XnoJmNWSJkk2zO', 'type': 'tool_call'}, {'name': 'custom_search', 'args': {'query': 'UK GDP 2021 value'}, 'id': 'call_2P0ASTPDgVzJXiL84FdVpHOh', 'type': 'tool_call'}, {'name': 'custom_search', 'args': {'query': 'UK GDP 2022 value'}, 'id': 'call_ZoQTWNoqSvBvVEnfosVCGSQW', 'type': 'tool_call'}, {'name': 'custom_search', 'args': {'query': 'UK GDP 2023 value'}, 'id': 'call_BwbNQOxZhaE68vZ05STNWyup', 'type': 'tool_call'}], usage_metadata={'input_tokens': 607, 'output_tokens': 130, 'total_tokens': 737})], 'sender': 'Researcher'}}\n",
      "----\n",
      "{'tools': {'messages': [ToolMessage(content='custom_search_wrapper.run(UK GDP 2018 value)', name='custom_search', id='91872613-740e-4455-8efb-c4744ea365c7', tool_call_id='call_9R3Z7jlYAbKsCeLOB2PFgz54'), ToolMessage(content='custom_search_wrapper.run(UK GDP 2019 value)', name='custom_search', id='2028060d-17d3-4055-9634-520a6e6e70f5', tool_call_id='call_OKz9oiWoDFaFJeNPTrDiBMOz'), ToolMessage(content='custom_search_wrapper.run(UK GDP 2020 value)', name='custom_search', id='a8553c1f-ecfd-47ed-b58f-04abd5064cf2', tool_call_id='call_D6SaSPhfx8XnoJmNWSJkk2zO'), ToolMessage(content='custom_search_wrapper.run(UK GDP 2021 value)', name='custom_search', id='16a61bbf-df6c-44a8-8004-eec2f4b6a6de', tool_call_id='call_2P0ASTPDgVzJXiL84FdVpHOh'), ToolMessage(content='custom_search_wrapper.run(UK GDP 2022 value)', name='custom_search', id='2adae1a3-afa3-4f66-a04c-0e5da753f9f7', tool_call_id='call_ZoQTWNoqSvBvVEnfosVCGSQW'), ToolMessage(content='custom_search_wrapper.run(UK GDP 2023 value)', name='custom_search', id='10d7b03f-e504-4c0a-a1bb-22e4d856b4ec', tool_call_id='call_BwbNQOxZhaE68vZ05STNWyup')]}}\n",
      "----\n"
     ]
    },
    {
     "ename": "KeyboardInterrupt",
     "evalue": "",
     "output_type": "error",
     "traceback": [
      "\u001B[1;31m---------------------------------------------------------------------------\u001B[0m",
      "\u001B[1;31mKeyboardInterrupt\u001B[0m                         Traceback (most recent call last)",
      "Cell \u001B[1;32mIn[11], line 16\u001B[0m\n\u001B[0;32m      1\u001B[0m \u001B[38;5;28;01mfrom\u001B[39;00m \u001B[38;5;21;01mlangchain_core\u001B[39;00m\u001B[38;5;21;01m.\u001B[39;00m\u001B[38;5;21;01mmessages\u001B[39;00m \u001B[38;5;28;01mimport\u001B[39;00m HumanMessage\n\u001B[0;32m      3\u001B[0m events \u001B[38;5;241m=\u001B[39m graph\u001B[38;5;241m.\u001B[39mstream(\n\u001B[0;32m      4\u001B[0m     {\n\u001B[0;32m      5\u001B[0m         \u001B[38;5;124m\"\u001B[39m\u001B[38;5;124mmessages\u001B[39m\u001B[38;5;124m\"\u001B[39m: [\n\u001B[1;32m   (...)\u001B[0m\n\u001B[0;32m     14\u001B[0m     {\u001B[38;5;124m\"\u001B[39m\u001B[38;5;124mrecursion_limit\u001B[39m\u001B[38;5;124m\"\u001B[39m: \u001B[38;5;241m150\u001B[39m},\n\u001B[0;32m     15\u001B[0m )\n\u001B[1;32m---> 16\u001B[0m \u001B[38;5;28;43;01mfor\u001B[39;49;00m\u001B[43m \u001B[49m\u001B[43ms\u001B[49m\u001B[43m \u001B[49m\u001B[38;5;129;43;01min\u001B[39;49;00m\u001B[43m \u001B[49m\u001B[43mevents\u001B[49m\u001B[43m:\u001B[49m\n\u001B[0;32m     17\u001B[0m \u001B[43m    \u001B[49m\u001B[38;5;28;43mprint\u001B[39;49m\u001B[43m(\u001B[49m\u001B[43ms\u001B[49m\u001B[43m)\u001B[49m\n\u001B[0;32m     18\u001B[0m \u001B[43m    \u001B[49m\u001B[38;5;28;43mprint\u001B[39;49m\u001B[43m(\u001B[49m\u001B[38;5;124;43m\"\u001B[39;49m\u001B[38;5;124;43m----\u001B[39;49m\u001B[38;5;124;43m\"\u001B[39;49m\u001B[43m)\u001B[49m\n",
      "File \u001B[1;32mF:\\miniconda3\\envs\\langgraph_tutorials\\Lib\\site-packages\\langgraph\\pregel\\__init__.py:1224\u001B[0m, in \u001B[0;36mPregel.stream\u001B[1;34m(self, input, config, stream_mode, output_keys, interrupt_before, interrupt_after, debug, subgraphs)\u001B[0m\n\u001B[0;32m   1213\u001B[0m \u001B[38;5;66;03m# Similarly to Bulk Synchronous Parallel / Pregel model\u001B[39;00m\n\u001B[0;32m   1214\u001B[0m \u001B[38;5;66;03m# computation proceeds in steps, while there are channel updates\u001B[39;00m\n\u001B[0;32m   1215\u001B[0m \u001B[38;5;66;03m# channel updates from step N are only visible in step N+1\u001B[39;00m\n\u001B[0;32m   1216\u001B[0m \u001B[38;5;66;03m# channels are guaranteed to be immutable for the duration of the step,\u001B[39;00m\n\u001B[0;32m   1217\u001B[0m \u001B[38;5;66;03m# with channel updates applied only at the transition between steps\u001B[39;00m\n\u001B[0;32m   1218\u001B[0m \u001B[38;5;28;01mwhile\u001B[39;00m loop\u001B[38;5;241m.\u001B[39mtick(\n\u001B[0;32m   1219\u001B[0m     input_keys\u001B[38;5;241m=\u001B[39m\u001B[38;5;28mself\u001B[39m\u001B[38;5;241m.\u001B[39minput_channels,\n\u001B[0;32m   1220\u001B[0m     interrupt_before\u001B[38;5;241m=\u001B[39minterrupt_before,\n\u001B[0;32m   1221\u001B[0m     interrupt_after\u001B[38;5;241m=\u001B[39minterrupt_after,\n\u001B[0;32m   1222\u001B[0m     manager\u001B[38;5;241m=\u001B[39mrun_manager,\n\u001B[0;32m   1223\u001B[0m ):\n\u001B[1;32m-> 1224\u001B[0m \u001B[43m    \u001B[49m\u001B[38;5;28;43;01mfor\u001B[39;49;00m\u001B[43m \u001B[49m\u001B[43m_\u001B[49m\u001B[43m \u001B[49m\u001B[38;5;129;43;01min\u001B[39;49;00m\u001B[43m \u001B[49m\u001B[43mrunner\u001B[49m\u001B[38;5;241;43m.\u001B[39;49m\u001B[43mtick\u001B[49m\u001B[43m(\u001B[49m\n\u001B[0;32m   1225\u001B[0m \u001B[43m        \u001B[49m\u001B[43mloop\u001B[49m\u001B[38;5;241;43m.\u001B[39;49m\u001B[43mtasks\u001B[49m\u001B[38;5;241;43m.\u001B[39;49m\u001B[43mvalues\u001B[49m\u001B[43m(\u001B[49m\u001B[43m)\u001B[49m\u001B[43m,\u001B[49m\n\u001B[0;32m   1226\u001B[0m \u001B[43m        \u001B[49m\u001B[43mtimeout\u001B[49m\u001B[38;5;241;43m=\u001B[39;49m\u001B[38;5;28;43mself\u001B[39;49m\u001B[38;5;241;43m.\u001B[39;49m\u001B[43mstep_timeout\u001B[49m\u001B[43m,\u001B[49m\n\u001B[0;32m   1227\u001B[0m \u001B[43m        \u001B[49m\u001B[43mretry_policy\u001B[49m\u001B[38;5;241;43m=\u001B[39;49m\u001B[38;5;28;43mself\u001B[39;49m\u001B[38;5;241;43m.\u001B[39;49m\u001B[43mretry_policy\u001B[49m\u001B[43m,\u001B[49m\n\u001B[0;32m   1228\u001B[0m \u001B[43m    \u001B[49m\u001B[43m)\u001B[49m\u001B[43m:\u001B[49m\n\u001B[0;32m   1229\u001B[0m \u001B[43m        \u001B[49m\u001B[38;5;66;43;03m# emit output\u001B[39;49;00m\n\u001B[0;32m   1230\u001B[0m \u001B[43m        \u001B[49m\u001B[38;5;28;43;01mfor\u001B[39;49;00m\u001B[43m \u001B[49m\u001B[43mo\u001B[49m\u001B[43m \u001B[49m\u001B[38;5;129;43;01min\u001B[39;49;00m\u001B[43m \u001B[49m\u001B[43moutput\u001B[49m\u001B[43m(\u001B[49m\u001B[43m)\u001B[49m\u001B[43m:\u001B[49m\n\u001B[0;32m   1231\u001B[0m \u001B[43m            \u001B[49m\u001B[38;5;28;43;01myield\u001B[39;49;00m\u001B[43m \u001B[49m\u001B[43mo\u001B[49m\n",
      "File \u001B[1;32mF:\\miniconda3\\envs\\langgraph_tutorials\\Lib\\site-packages\\langgraph\\pregel\\runner.py:60\u001B[0m, in \u001B[0;36mPregelRunner.tick\u001B[1;34m(self, tasks, reraise, timeout, retry_policy)\u001B[0m\n\u001B[0;32m     58\u001B[0m end_time \u001B[38;5;241m=\u001B[39m timeout \u001B[38;5;241m+\u001B[39m time\u001B[38;5;241m.\u001B[39mmonotonic() \u001B[38;5;28;01mif\u001B[39;00m timeout \u001B[38;5;28;01melse\u001B[39;00m \u001B[38;5;28;01mNone\u001B[39;00m\n\u001B[0;32m     59\u001B[0m \u001B[38;5;28;01mwhile\u001B[39;00m futures:\n\u001B[1;32m---> 60\u001B[0m     done, _ \u001B[38;5;241m=\u001B[39m \u001B[43mconcurrent\u001B[49m\u001B[38;5;241;43m.\u001B[39;49m\u001B[43mfutures\u001B[49m\u001B[38;5;241;43m.\u001B[39;49m\u001B[43mwait\u001B[49m\u001B[43m(\u001B[49m\n\u001B[0;32m     61\u001B[0m \u001B[43m        \u001B[49m\u001B[43mfutures\u001B[49m\u001B[43m,\u001B[49m\n\u001B[0;32m     62\u001B[0m \u001B[43m        \u001B[49m\u001B[43mreturn_when\u001B[49m\u001B[38;5;241;43m=\u001B[39;49m\u001B[43mconcurrent\u001B[49m\u001B[38;5;241;43m.\u001B[39;49m\u001B[43mfutures\u001B[49m\u001B[38;5;241;43m.\u001B[39;49m\u001B[43mFIRST_COMPLETED\u001B[49m\u001B[43m,\u001B[49m\n\u001B[0;32m     63\u001B[0m \u001B[43m        \u001B[49m\u001B[43mtimeout\u001B[49m\u001B[38;5;241;43m=\u001B[39;49m\u001B[43m(\u001B[49m\u001B[38;5;28;43mmax\u001B[39;49m\u001B[43m(\u001B[49m\u001B[38;5;241;43m0\u001B[39;49m\u001B[43m,\u001B[49m\u001B[43m \u001B[49m\u001B[43mend_time\u001B[49m\u001B[43m \u001B[49m\u001B[38;5;241;43m-\u001B[39;49m\u001B[43m \u001B[49m\u001B[43mtime\u001B[49m\u001B[38;5;241;43m.\u001B[39;49m\u001B[43mmonotonic\u001B[49m\u001B[43m(\u001B[49m\u001B[43m)\u001B[49m\u001B[43m)\u001B[49m\u001B[43m \u001B[49m\u001B[38;5;28;43;01mif\u001B[39;49;00m\u001B[43m \u001B[49m\u001B[43mend_time\u001B[49m\u001B[43m \u001B[49m\u001B[38;5;28;43;01melse\u001B[39;49;00m\u001B[43m \u001B[49m\u001B[38;5;28;43;01mNone\u001B[39;49;00m\u001B[43m)\u001B[49m\u001B[43m,\u001B[49m\n\u001B[0;32m     64\u001B[0m \u001B[43m    \u001B[49m\u001B[43m)\u001B[49m\n\u001B[0;32m     65\u001B[0m     \u001B[38;5;28;01mif\u001B[39;00m \u001B[38;5;129;01mnot\u001B[39;00m done:\n\u001B[0;32m     66\u001B[0m         \u001B[38;5;28;01mbreak\u001B[39;00m  \u001B[38;5;66;03m# timed out\u001B[39;00m\n",
      "File \u001B[1;32mF:\\miniconda3\\envs\\langgraph_tutorials\\Lib\\concurrent\\futures\\_base.py:305\u001B[0m, in \u001B[0;36mwait\u001B[1;34m(fs, timeout, return_when)\u001B[0m\n\u001B[0;32m    301\u001B[0m         \u001B[38;5;28;01mreturn\u001B[39;00m DoneAndNotDoneFutures(done, not_done)\n\u001B[0;32m    303\u001B[0m     waiter \u001B[38;5;241m=\u001B[39m _create_and_install_waiters(fs, return_when)\n\u001B[1;32m--> 305\u001B[0m \u001B[43mwaiter\u001B[49m\u001B[38;5;241;43m.\u001B[39;49m\u001B[43mevent\u001B[49m\u001B[38;5;241;43m.\u001B[39;49m\u001B[43mwait\u001B[49m\u001B[43m(\u001B[49m\u001B[43mtimeout\u001B[49m\u001B[43m)\u001B[49m\n\u001B[0;32m    306\u001B[0m \u001B[38;5;28;01mfor\u001B[39;00m f \u001B[38;5;129;01min\u001B[39;00m fs:\n\u001B[0;32m    307\u001B[0m     \u001B[38;5;28;01mwith\u001B[39;00m f\u001B[38;5;241m.\u001B[39m_condition:\n",
      "File \u001B[1;32mF:\\miniconda3\\envs\\langgraph_tutorials\\Lib\\threading.py:629\u001B[0m, in \u001B[0;36mEvent.wait\u001B[1;34m(self, timeout)\u001B[0m\n\u001B[0;32m    627\u001B[0m signaled \u001B[38;5;241m=\u001B[39m \u001B[38;5;28mself\u001B[39m\u001B[38;5;241m.\u001B[39m_flag\n\u001B[0;32m    628\u001B[0m \u001B[38;5;28;01mif\u001B[39;00m \u001B[38;5;129;01mnot\u001B[39;00m signaled:\n\u001B[1;32m--> 629\u001B[0m     signaled \u001B[38;5;241m=\u001B[39m \u001B[38;5;28;43mself\u001B[39;49m\u001B[38;5;241;43m.\u001B[39;49m\u001B[43m_cond\u001B[49m\u001B[38;5;241;43m.\u001B[39;49m\u001B[43mwait\u001B[49m\u001B[43m(\u001B[49m\u001B[43mtimeout\u001B[49m\u001B[43m)\u001B[49m\n\u001B[0;32m    630\u001B[0m \u001B[38;5;28;01mreturn\u001B[39;00m signaled\n",
      "File \u001B[1;32mF:\\miniconda3\\envs\\langgraph_tutorials\\Lib\\threading.py:327\u001B[0m, in \u001B[0;36mCondition.wait\u001B[1;34m(self, timeout)\u001B[0m\n\u001B[0;32m    325\u001B[0m \u001B[38;5;28;01mtry\u001B[39;00m:    \u001B[38;5;66;03m# restore state no matter what (e.g., KeyboardInterrupt)\u001B[39;00m\n\u001B[0;32m    326\u001B[0m     \u001B[38;5;28;01mif\u001B[39;00m timeout \u001B[38;5;129;01mis\u001B[39;00m \u001B[38;5;28;01mNone\u001B[39;00m:\n\u001B[1;32m--> 327\u001B[0m         \u001B[43mwaiter\u001B[49m\u001B[38;5;241;43m.\u001B[39;49m\u001B[43macquire\u001B[49m\u001B[43m(\u001B[49m\u001B[43m)\u001B[49m\n\u001B[0;32m    328\u001B[0m         gotit \u001B[38;5;241m=\u001B[39m \u001B[38;5;28;01mTrue\u001B[39;00m\n\u001B[0;32m    329\u001B[0m     \u001B[38;5;28;01melse\u001B[39;00m:\n",
      "\u001B[1;31mKeyboardInterrupt\u001B[0m: "
     ]
    }
   ],
   "execution_count": 11
  }
 ],
 "metadata": {
  "kernelspec": {
   "display_name": "Python 3",
   "language": "python",
   "name": "python3"
  },
  "language_info": {
   "codemirror_mode": {
    "name": "ipython",
    "version": 2
   },
   "file_extension": ".py",
   "mimetype": "text/x-python",
   "name": "python",
   "nbconvert_exporter": "python",
   "pygments_lexer": "ipython2",
   "version": "2.7.6"
  }
 },
 "nbformat": 4,
 "nbformat_minor": 5
}
