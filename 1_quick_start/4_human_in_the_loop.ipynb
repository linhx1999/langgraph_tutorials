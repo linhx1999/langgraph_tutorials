{
 "cells": [
  {
   "metadata": {
    "ExecuteTime": {
     "end_time": "2024-09-17T08:29:25.393441Z",
     "start_time": "2024-09-17T08:29:25.377977Z"
    }
   },
   "cell_type": "code",
   "source": [
    "from dotenv import load_dotenv\n",
    "\n",
    "load_dotenv()  # take environment variables from .env."
   ],
   "id": "41357160ec5a388e",
   "outputs": [
    {
     "data": {
      "text/plain": [
       "True"
      ]
     },
     "execution_count": 1,
     "metadata": {},
     "output_type": "execute_result"
    }
   ],
   "execution_count": 1
  },
  {
   "metadata": {
    "ExecuteTime": {
     "end_time": "2024-09-17T08:29:27.051267Z",
     "start_time": "2024-09-17T08:29:25.393441Z"
    }
   },
   "cell_type": "code",
   "source": [
    "from langgraph.prebuilt import ToolNode, tools_condition\n",
    "from langgraph.graph import START\n",
    "\n",
    "from typing import Annotated\n",
    "from typing_extensions import TypedDict\n",
    "from langgraph.graph import StateGraph\n",
    "from langgraph.graph.message import add_messages\n",
    "from langchain_openai import ChatOpenAI\n",
    "from typing import Final\n",
    "\n",
    "from langchain_core.tools import BaseTool\n",
    "from langgraph.checkpoint.memory import MemorySaver\n",
    "\n",
    "memory = MemorySaver()\n",
    "\n",
    "class CustomSearch(BaseTool):\n",
    "    \"\"\"Tool that queries the CustomSearch.\"\"\"\n",
    "\n",
    "    name: str = \"custom_search\"\n",
    "    description: str = (\n",
    "        \"a search engine. \"\n",
    "        \"useful for when you need to answer questions about current events.\"\n",
    "        \" input should be a search query.\"\n",
    "    )\n",
    "\n",
    "    def _run(\n",
    "        self,\n",
    "        query: str,\n",
    "    ) -> str:\n",
    "        \"\"\"Use the tool.\"\"\"\n",
    "        return f\"custom_search_wrapper.run({query})\"\n",
    "\n",
    "\n",
    "tool = CustomSearch()\n",
    "tools = [tool]\n",
    "tool.invoke(\"What's a 'node' in LangGraph?\")\n",
    "\n",
    "class State(TypedDict):\n",
    "    messages: Annotated[list, add_messages]\n",
    "\n",
    "\n",
    "graph_builder = StateGraph(State)\n",
    "\n",
    "llm = ChatOpenAI(model=\"gpt-4o-mini\", temperature=0)\n",
    "\n",
    "# Modification: tell the LLM which tools it can call\n",
    "llm_with_tools = llm.bind_tools(tools)\n",
    "\n",
    "def chatbot(state: State):\n",
    "    return {\"messages\": [llm_with_tools.invoke(state[\"messages\"])]}\n",
    "\n",
    "\n",
    "NODE_CHATBOT: Final = \"chatbot\"\n",
    "graph_builder.add_node(NODE_CHATBOT, chatbot)\n",
    "\n",
    "\n",
    "tool_node = ToolNode(tools=[tool])\n",
    "NODE_TOOLS: Final = \"tools\"\n",
    "graph_builder.add_node(NODE_TOOLS, tool_node)\n",
    "\n",
    "graph_builder.add_conditional_edges(\n",
    "    NODE_CHATBOT,\n",
    "    tools_condition,\n",
    ")\n",
    "# Any time a tool is called, we return to the chatbot to decide the next step\n",
    "graph_builder.add_edge(NODE_TOOLS, NODE_CHATBOT)\n",
    "graph_builder.add_edge(START, NODE_CHATBOT)\n"
   ],
   "id": "29e113c34d68b1e3",
   "outputs": [],
   "execution_count": 2
  },
  {
   "metadata": {
    "ExecuteTime": {
     "end_time": "2024-09-17T08:29:43.664945Z",
     "start_time": "2024-09-17T08:29:43.659842Z"
    }
   },
   "cell_type": "code",
   "source": [
    "graph = graph_builder.compile(\n",
    "    checkpointer=memory,\n",
    "    # This is new!\n",
    "    interrupt_before=[NODE_TOOLS],\n",
    "    # Note: can also interrupt __after__ tools, if desired.\n",
    "    # interrupt_after=[\"tools\"]\n",
    ")"
   ],
   "id": "1ba65b18c3bd2ea3",
   "outputs": [],
   "execution_count": 4
  },
  {
   "metadata": {
    "ExecuteTime": {
     "end_time": "2024-09-17T08:29:47.615589Z",
     "start_time": "2024-09-17T08:29:46.526059Z"
    }
   },
   "cell_type": "code",
   "source": [
    "from IPython.display import Image, display\n",
    "\n",
    "try:\n",
    "    display(Image(graph.get_graph().draw_mermaid_png()))\n",
    "except Exception:\n",
    "    # This requires some extra dependencies and is optional\n",
    "    pass"
   ],
   "id": "21aae8dc63884867",
   "outputs": [
    {
     "data": {
      "image/jpeg": "[encoded data removed]",
      "text/plain": [
       "<IPython.core.display.Image object>"
      ]
     },
     "metadata": {},
     "output_type": "display_data"
    }
   ],
   "execution_count": 5
  },
  {
   "metadata": {
    "ExecuteTime": {
     "end_time": "2024-09-17T08:30:21.294120Z",
     "start_time": "2024-09-17T08:30:19.886918Z"
    }
   },
   "cell_type": "code",
   "source": [
    "user_input = \"I'm learning LangGraph. Could you do some research on it for me?\"\n",
    "config = {\"configurable\": {\"thread_id\": \"1\"}}\n",
    "# The config is the **second positional argument** to stream() or invoke()!\n",
    "events = graph.stream(\n",
    "    {\"messages\": [(\"user\", user_input)]}, config, stream_mode=\"values\"\n",
    ")\n",
    "for event in events:\n",
    "    if \"messages\" in event:\n",
    "        event[\"messages\"][-1].pretty_print()"
   ],
   "id": "d20bccae4fcc5bf",
   "outputs": [
    {
     "name": "stdout",
     "output_type": "stream",
     "text": [
      "================================\u001B[1m Human Message \u001B[0m=================================\n",
      "\n",
      "I'm learning LangGraph. Could you do some research on it for me?\n",
      "==================================\u001B[1m Ai Message \u001B[0m==================================\n",
      "Tool Calls:\n",
      "  custom_search (call_GjFerY3d64SEvI8fzGXIWeie)\n",
      " Call ID: call_GjFerY3d64SEvI8fzGXIWeie\n",
      "  Args:\n",
      "    query: LangGraph\n"
     ]
    }
   ],
   "execution_count": 6
  },
  {
   "metadata": {
    "ExecuteTime": {
     "end_time": "2024-09-17T08:32:41.121654Z",
     "start_time": "2024-09-17T08:32:41.108962Z"
    }
   },
   "cell_type": "code",
   "source": [
    "snapshot = graph.get_state(config)\n",
    "snapshot.next"
   ],
   "id": "25a5bc6ff793a767",
   "outputs": [
    {
     "data": {
      "text/plain": [
       "('tools',)"
      ]
     },
     "execution_count": 9,
     "metadata": {},
     "output_type": "execute_result"
    }
   ],
   "execution_count": 9
  },
  {
   "metadata": {
    "ExecuteTime": {
     "end_time": "2024-09-17T08:33:05.064927Z",
     "start_time": "2024-09-17T08:33:05.056625Z"
    }
   },
   "cell_type": "code",
   "source": [
    "existing_message = snapshot.values[\"messages\"][-1]\n",
    "existing_message.tool_calls"
   ],
   "id": "d2e3a8f1b2525962",
   "outputs": [
    {
     "data": {
      "text/plain": [
       "[{'name': 'custom_search',\n",
       "  'args': {'query': 'LangGraph'},\n",
       "  'id': 'call_GjFerY3d64SEvI8fzGXIWeie',\n",
       "  'type': 'tool_call'}]"
      ]
     },
     "execution_count": 10,
     "metadata": {},
     "output_type": "execute_result"
    }
   ],
   "execution_count": 10
  },
  {
   "metadata": {
    "ExecuteTime": {
     "end_time": "2024-09-17T08:34:01.821520Z",
     "start_time": "2024-09-17T08:33:59.812684Z"
    }
   },
   "cell_type": "code",
   "source": [
    "# `None` will append nothing new to the current state, letting it resume as if it had never been interrupted\n",
    "events = graph.stream(None, config, stream_mode=\"values\")\n",
    "for event in events:\n",
    "    if \"messages\" in event:\n",
    "        event[\"messages\"][-1].pretty_print()"
   ],
   "id": "b2a40a599e1f5950",
   "outputs": [
    {
     "name": "stdout",
     "output_type": "stream",
     "text": [
      "==================================\u001B[1m Ai Message \u001B[0m==================================\n",
      "Tool Calls:\n",
      "  custom_search (call_GjFerY3d64SEvI8fzGXIWeie)\n",
      " Call ID: call_GjFerY3d64SEvI8fzGXIWeie\n",
      "  Args:\n",
      "    query: LangGraph\n",
      "=================================\u001B[1m Tool Message \u001B[0m=================================\n",
      "Name: custom_search\n",
      "\n",
      "custom_search_wrapper.run(LangGraph)\n",
      "==================================\u001B[1m Ai Message \u001B[0m==================================\n",
      "Tool Calls:\n",
      "  custom_search (call_GhE1LDR3cbsOSw6A77KKUPVO)\n",
      " Call ID: call_GhE1LDR3cbsOSw6A77KKUPVO\n",
      "  Args:\n",
      "    query: LangGraph tutorial\n"
     ]
    }
   ],
   "execution_count": 11
  },
  {
   "metadata": {
    "ExecuteTime": {
     "end_time": "2024-09-17T08:20:11.481516Z",
     "start_time": "2024-09-17T08:20:10.694785Z"
    }
   },
   "cell_type": "code",
   "source": [
    "config = {\"configurable\": {\"thread_id\": \"1\"}}\n",
    "user_input = \"Hi there! My name is Will.\"\n",
    "\n",
    "# The config is the **second positional argument** to stream() or invoke()!\n",
    "events = graph.stream(\n",
    "    {\"messages\": [(\"user\", user_input)]}, config, stream_mode=\"values\"\n",
    ")\n",
    "for event in events:\n",
    "    event[\"messages\"][-1].pretty_print()"
   ],
   "id": "d92f8e4b47bce0fd",
   "outputs": [
    {
     "name": "stdout",
     "output_type": "stream",
     "text": [
      "================================\u001B[1m Human Message \u001B[0m=================================\n",
      "\n",
      "Hi there! My name is Will.\n",
      "==================================\u001B[1m Ai Message \u001B[0m==================================\n",
      "\n",
      "Hello Will! How can I assist you today?\n"
     ]
    }
   ],
   "execution_count": 7
  },
  {
   "metadata": {
    "ExecuteTime": {
     "end_time": "2024-09-17T08:21:13.961837Z",
     "start_time": "2024-09-17T08:21:11.798221Z"
    }
   },
   "cell_type": "code",
   "source": [
    "user_input = \"Remember my name?\"\n",
    "\n",
    "# The config is the **second positional argument** to stream() or invoke()!\n",
    "events = graph.stream(\n",
    "    {\"messages\": [(\"user\", user_input)]}, config, stream_mode=\"values\"\n",
    ")\n",
    "for event in events:\n",
    "    event[\"messages\"][-1].pretty_print()"
   ],
   "id": "cb33bb703a226425",
   "outputs": [
    {
     "name": "stdout",
     "output_type": "stream",
     "text": [
      "================================\u001B[1m Human Message \u001B[0m=================================\n",
      "\n",
      "Remember my name?\n",
      "==================================\u001B[1m Ai Message \u001B[0m==================================\n",
      "\n",
      "Yes, I remember your name is Will! How can I help you today?\n"
     ]
    }
   ],
   "execution_count": 8
  },
  {
   "metadata": {
    "ExecuteTime": {
     "end_time": "2024-09-17T08:21:56.229679Z",
     "start_time": "2024-09-17T08:21:55.312039Z"
    }
   },
   "cell_type": "code",
   "source": [
    "# The only difference is we change the `thread_id` here to \"2\" instead of \"1\"\n",
    "events = graph.stream(\n",
    "    {\"messages\": [(\"user\", user_input)]},\n",
    "    {\"configurable\": {\"thread_id\": \"2\"}},\n",
    "    stream_mode=\"values\",\n",
    ")\n",
    "for event in events:\n",
    "    event[\"messages\"][-1].pretty_print()"
   ],
   "id": "68b425d05729e228",
   "outputs": [
    {
     "name": "stdout",
     "output_type": "stream",
     "text": [
      "================================\u001B[1m Human Message \u001B[0m=================================\n",
      "\n",
      "Remember my name?\n",
      "==================================\u001B[1m Ai Message \u001B[0m==================================\n",
      "\n",
      "I don't have the ability to remember personal information or previous interactions. However, I'm here to help you with any questions or topics you'd like to discuss!\n"
     ]
    }
   ],
   "execution_count": 9
  },
  {
   "metadata": {
    "ExecuteTime": {
     "end_time": "2024-09-17T08:23:58.998252Z",
     "start_time": "2024-09-17T08:23:58.987093Z"
    }
   },
   "cell_type": "code",
   "source": [
    "snapshot = graph.get_state(config)\n",
    "snapshot"
   ],
   "id": "9833b923ed004ba0",
   "outputs": [
    {
     "data": {
      "text/plain": [
       "StateSnapshot(values={'messages': [HumanMessage(content='Hi there! My name is Will.', additional_kwargs={}, response_metadata={}, id='2ec9ec78-0cb9-40ff-b3c1-df1a6753ad4f'), AIMessage(content='Hello Will! How can I assist you today?', additional_kwargs={'refusal': None}, response_metadata={'token_usage': {'completion_tokens': 11, 'prompt_tokens': 68, 'total_tokens': 79, 'completion_tokens_details': {'reasoning_tokens': 0}}, 'model_name': 'gpt-4o-mini-2024-07-18', 'system_fingerprint': 'fp_483d39d857', 'finish_reason': 'stop', 'logprobs': None}, id='run-09bc41c9-daf5-48ca-a9d1-ae87675f4999-0', usage_metadata={'input_tokens': 68, 'output_tokens': 11, 'total_tokens': 79}), HumanMessage(content='Remember my name?', additional_kwargs={}, response_metadata={}, id='ce3a7d4f-15a3-4c1b-abf0-b9c1e7f7b62f'), AIMessage(content='Yes, I remember your name is Will! How can I help you today?', additional_kwargs={'refusal': None}, response_metadata={'token_usage': {'completion_tokens': 17, 'prompt_tokens': 90, 'total_tokens': 107, 'completion_tokens_details': {'reasoning_tokens': 0}}, 'model_name': 'gpt-4o-mini-2024-07-18', 'system_fingerprint': 'fp_483d39d857', 'finish_reason': 'stop', 'logprobs': None}, id='run-45894c73-16db-4dc5-9488-b267833b3081-0', usage_metadata={'input_tokens': 90, 'output_tokens': 17, 'total_tokens': 107})]}, next=(), config={'configurable': {'thread_id': '1', 'checkpoint_ns': '', 'checkpoint_id': '1ef74cdc-dab6-6721-8004-adbd1efc0e94'}}, metadata={'source': 'loop', 'writes': {'chatbot': {'messages': [AIMessage(content='Yes, I remember your name is Will! How can I help you today?', additional_kwargs={'refusal': None}, response_metadata={'token_usage': {'completion_tokens': 17, 'prompt_tokens': 90, 'total_tokens': 107, 'completion_tokens_details': {'reasoning_tokens': 0}}, 'model_name': 'gpt-4o-mini-2024-07-18', 'system_fingerprint': 'fp_483d39d857', 'finish_reason': 'stop', 'logprobs': None}, id='run-45894c73-16db-4dc5-9488-b267833b3081-0', usage_metadata={'input_tokens': 90, 'output_tokens': 17, 'total_tokens': 107})]}}, 'step': 4, 'parents': {}}, created_at='2024-09-17T08:21:13.945475+00:00', parent_config={'configurable': {'thread_id': '1', 'checkpoint_ns': '', 'checkpoint_id': '1ef74cdc-c63c-620a-8003-1ed98bb1a520'}}, tasks=())"
      ]
     },
     "execution_count": 10,
     "metadata": {},
     "output_type": "execute_result"
    }
   ],
   "execution_count": 10
  },
  {
   "metadata": {
    "ExecuteTime": {
     "end_time": "2024-09-17T08:24:41.094321Z",
     "start_time": "2024-09-17T08:24:41.084047Z"
    }
   },
   "cell_type": "code",
   "source": "snapshot.next  # (since the graph ended this turn, `next` is empty. If you fetch a state from within a graph invocation, next tells which node will execute next)",
   "id": "c5d6642348482b33",
   "outputs": [
    {
     "data": {
      "text/plain": [
       "()"
      ]
     },
     "execution_count": 11,
     "metadata": {},
     "output_type": "execute_result"
    }
   ],
   "execution_count": 11
  }
 ],
 "metadata": {
  "kernelspec": {
   "display_name": "Python 3",
   "language": "python",
   "name": "python3"
  },
  "language_info": {
   "codemirror_mode": {
    "name": "ipython",
    "version": 2
   },
   "file_extension": ".py",
   "mimetype": "text/x-python",
   "name": "python",
   "nbconvert_exporter": "python",
   "pygments_lexer": "ipython2",
   "version": "2.7.6"
  }
 },
 "nbformat": 4,
 "nbformat_minor": 5
}
