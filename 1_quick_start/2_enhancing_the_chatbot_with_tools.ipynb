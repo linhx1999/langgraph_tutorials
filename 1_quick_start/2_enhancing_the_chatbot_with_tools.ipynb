{
 "cells": [
  {
   "metadata": {
    "ExecuteTime": {
     "end_time": "2024-09-17T08:04:04.398578Z",
     "start_time": "2024-09-17T08:04:04.383421Z"
    }
   },
   "cell_type": "code",
   "source": [
    "from dotenv import load_dotenv\n",
    "\n",
    "load_dotenv()  # take environment variables from .env."
   ],
   "id": "41357160ec5a388e",
   "outputs": [
    {
     "data": {
      "text/plain": [
       "True"
      ]
     },
     "execution_count": 1,
     "metadata": {},
     "output_type": "execute_result"
    }
   ],
   "execution_count": 1
  },
  {
   "metadata": {
    "ExecuteTime": {
     "end_time": "2024-09-17T08:04:04.951359Z",
     "start_time": "2024-09-17T08:04:04.398578Z"
    }
   },
   "cell_type": "code",
   "source": [
    "from langchain_core.tools import BaseTool\n",
    "\n",
    "\n",
    "class CustomSearch(BaseTool):\n",
    "    \"\"\"Tool that queries the CustomSearch.\"\"\"\n",
    "\n",
    "    name: str = \"custom_search\"\n",
    "    description: str = (\n",
    "        \"a search engine. \"\n",
    "        \"useful for when you need to answer questions about current events.\"\n",
    "        \" input should be a search query.\"\n",
    "    )\n",
    "\n",
    "    def _run(\n",
    "        self,\n",
    "        query: str,\n",
    "    ) -> str:\n",
    "        \"\"\"Use the tool.\"\"\"\n",
    "        return f\"custom_search_wrapper.run({query})\"\n"
   ],
   "id": "f97baf62b8a70126",
   "outputs": [],
   "execution_count": 2
  },
  {
   "metadata": {
    "ExecuteTime": {
     "end_time": "2024-09-17T08:04:04.958229Z",
     "start_time": "2024-09-17T08:04:04.951359Z"
    }
   },
   "cell_type": "code",
   "source": [
    "tool = CustomSearch()\n",
    "tools = [tool]\n",
    "tool.invoke(\"What's a 'node' in LangGraph?\")"
   ],
   "id": "17c9f24f5b99aaa8",
   "outputs": [
    {
     "data": {
      "text/plain": [
       "\"custom_search_wrapper.run(What's a 'node' in LangGraph?)\""
      ]
     },
     "execution_count": 3,
     "metadata": {},
     "output_type": "execute_result"
    }
   ],
   "execution_count": 3
  },
  {
   "metadata": {
    "ExecuteTime": {
     "end_time": "2024-09-17T08:04:06.036480Z",
     "start_time": "2024-09-17T08:04:04.958229Z"
    }
   },
   "cell_type": "code",
   "source": [
    "from typing import Annotated\n",
    "from typing_extensions import TypedDict\n",
    "from langgraph.graph import StateGraph\n",
    "from langgraph.graph.message import add_messages\n",
    "from langchain_openai import ChatOpenAI\n",
    "from typing import Final\n",
    "\n",
    "class State(TypedDict):\n",
    "    messages: Annotated[list, add_messages]\n",
    "\n",
    "\n",
    "graph_builder = StateGraph(State)\n",
    "\n",
    "llm = ChatOpenAI(model=\"gpt-4o-mini\", temperature=0)\n",
    "\n",
    "# Modification: tell the LLM which tools it can call\n",
    "llm_with_tools = llm.bind_tools(tools)\n",
    "\n",
    "def chatbot(state: State):\n",
    "    return {\"messages\": [llm_with_tools.invoke(state[\"messages\"])]}\n",
    "\n",
    "\n",
    "NODE_CHATBOT: Final = \"chatbot\"\n",
    "graph_builder.add_node(NODE_CHATBOT, chatbot)"
   ],
   "id": "2d1c0dd0d857372",
   "outputs": [],
   "execution_count": 4
  },
  {
   "metadata": {
    "ExecuteTime": {
     "end_time": "2024-09-17T08:04:06.041117Z",
     "start_time": "2024-09-17T08:04:06.036480Z"
    }
   },
   "cell_type": "code",
   "source": [
    "import json\n",
    "\n",
    "from langchain_core.messages import ToolMessage\n",
    "\n",
    "\n",
    "class BasicToolNode:\n",
    "    \"\"\"A node that runs the tools requested in the last AIMessage.\"\"\"\n",
    "\n",
    "    def __init__(self, tools: list) -> None:\n",
    "        self.tools_by_name = {tool.name: tool for tool in tools}\n",
    "\n",
    "    def __call__(self, inputs: dict):\n",
    "        if messages := inputs.get(\"messages\", []):\n",
    "            message = messages[-1]\n",
    "        else:\n",
    "            raise ValueError(\"No message found in input\")\n",
    "        \n",
    "        outputs = []\n",
    "        for tool_call in message.tool_calls:\n",
    "            tool_result = self.tools_by_name[tool_call[\"name\"]].invoke(\n",
    "                tool_call[\"args\"]\n",
    "            )\n",
    "            outputs.append(\n",
    "                ToolMessage(\n",
    "                    content=json.dumps(tool_result),\n",
    "                    name=tool_call[\"name\"],\n",
    "                    tool_call_id=tool_call[\"id\"],\n",
    "                )\n",
    "            )\n",
    "        return {\"messages\": outputs}\n",
    "\n",
    "\n",
    "tool_node = BasicToolNode(tools=[tool])\n",
    "NODE_TOOLS: Final = \"tools\"\n",
    "graph_builder.add_node(NODE_TOOLS, tool_node)"
   ],
   "id": "29e113c34d68b1e3",
   "outputs": [],
   "execution_count": 5
  },
  {
   "metadata": {
    "ExecuteTime": {
     "end_time": "2024-09-17T08:04:06.049652Z",
     "start_time": "2024-09-17T08:04:06.041117Z"
    }
   },
   "cell_type": "code",
   "source": [
    "from typing import Literal\n",
    "from langgraph.graph import END, START\n",
    "\n",
    "\n",
    "def route_tools(\n",
    "    state: State,\n",
    ") -> Literal[NODE_TOOLS, END]:\n",
    "    \"\"\"\n",
    "    Use in the conditional_edge to route to the ToolNode if the last message\n",
    "    has tool calls. Otherwise, route to the end.\n",
    "    \"\"\"\n",
    "    if isinstance(state, list):\n",
    "        ai_message = state[-1]\n",
    "    elif messages := state.get(\"messages\", []):\n",
    "        ai_message = messages[-1]\n",
    "    else:\n",
    "        raise ValueError(f\"No messages found in input state to tool_edge: {state}\")\n",
    "    if hasattr(ai_message, \"tool_calls\") and len(ai_message.tool_calls) > 0:\n",
    "        return NODE_TOOLS\n",
    "    return END\n",
    "\n",
    "\n",
    "# The `tools_condition` function returns \"tools\" if the chatbot asks to use a tool, and \"__end__\" if\n",
    "# it is fine directly responding. This conditional routing defines the main agent loop.\n",
    "graph_builder.add_conditional_edges(\n",
    "    \"chatbot\",\n",
    "    route_tools,\n",
    "    # The following dictionary lets you tell the graph to interpret the condition's outputs as a specific node\n",
    "    # It defaults to the identity function, but if you\n",
    "    # want to use a node named something else apart from \"tools\",\n",
    "    # You can update the value of the dictionary to something else\n",
    "    # e.g., \"tools\": \"my_tools\"\n",
    "    {NODE_TOOLS: NODE_TOOLS, END: END},\n",
    ")\n",
    "# Any time a tool is called, we return to the chatbot to decide the next step\n",
    "graph_builder.add_edge(NODE_TOOLS, NODE_CHATBOT)\n",
    "graph_builder.add_edge(START, NODE_CHATBOT)\n",
    "graph = graph_builder.compile()"
   ],
   "id": "4f9f49825e8957b9",
   "outputs": [],
   "execution_count": 6
  },
  {
   "metadata": {
    "ExecuteTime": {
     "end_time": "2024-09-17T08:04:08.651047Z",
     "start_time": "2024-09-17T08:04:08.485911Z"
    }
   },
   "cell_type": "code",
   "source": [
    "from IPython.display import Image, display\n",
    "\n",
    "try:\n",
    "    display(Image(graph.get_graph().draw_mermaid_png()))\n",
    "except Exception:\n",
    "    # This requires some extra dependencies and is optional\n",
    "    pass"
   ],
   "id": "21aae8dc63884867",
   "outputs": [
    {
     "data": {
      "image/jpeg": "[encoded data removed]",
      "text/plain": [
       "<IPython.core.display.Image object>"
      ]
     },
     "metadata": {},
     "output_type": "display_data"
    }
   ],
   "execution_count": 7
  },
  {
   "metadata": {
    "ExecuteTime": {
     "end_time": "2024-09-17T08:08:42.715640Z",
     "start_time": "2024-09-17T08:08:10.990179Z"
    }
   },
   "cell_type": "code",
   "source": [
    "from langchain_core.messages import BaseMessage\n",
    "\n",
    "while True:\n",
    "    user_input = input(\"User: \")\n",
    "    if user_input.lower() in [\"quit\", \"exit\", \"q\"]:\n",
    "        print(\"Goodbye!\")\n",
    "        break\n",
    "    for event in graph.stream({\"messages\": [(\"user\", user_input)]}):\n",
    "        for value in event.values():\n",
    "            if isinstance(value[\"messages\"][-1], BaseMessage):\n",
    "                print(\"Assistant:\", value[\"messages\"][-1].content)"
   ],
   "id": "60173418dfd84476",
   "outputs": [
    {
     "name": "stdout",
     "output_type": "stream",
     "text": [
      "Assistant: 你好！有什么我可以帮助你的吗？\n",
      "Assistant: \n",
      "Assistant: \"custom_search_wrapper.run(\\u4eca\\u5929\\u5929\\u6c14)\"\n",
      "Assistant: \n",
      "Assistant: \"custom_search_wrapper.run(\\u4eca\\u5929\\u5929\\u6c14\\u9884\\u62a5)\"\n",
      "Assistant: 请提供您所在的城市或地区，以便我为您查询具体的天气情况。\n",
      "Assistant: \n",
      "Assistant: \"custom_search_wrapper.run(\\u5e7f\\u5dde)\"\n",
      "Assistant: \n",
      "Assistant: \"custom_search_wrapper.run(Guangzhou)\"\n",
      "Assistant: 广州（Guangzhou）是中国广东省的省会，位于珠江三角洲地区，是中国南方的重要城市之一。广州以其丰富的历史、文化和经济发展而闻名，是中国的商业和贸易中心之一。\n",
      "\n",
      "广州的主要特点包括：\n",
      "\n",
      "1. **经济中心**：广州是中国的经济重心之一，拥有众多的企业和工业园区，是国际贸易的重要港口城市。\n",
      "\n",
      "2. **文化多样性**：广州有着悠久的历史和丰富的文化，融合了多种文化元素，包括粤文化、华南文化等。\n",
      "\n",
      "3. **美食之都**：广州以其独特的粤菜而闻名，尤其是早茶和海鲜，吸引了众多游客前来品尝。\n",
      "\n",
      "4. **旅游景点**：广州有许多著名的旅游景点，如广州塔、白云山、陈家祠等，吸引了大量游客。\n",
      "\n",
      "5. **交通便利**：广州的交通网络发达，包括地铁、公交、火车和机场，方便游客和居民出行。\n",
      "\n",
      "如果你对广州有特定的方面感兴趣，比如旅游、文化、经济等，请告诉我，我可以提供更详细的信息。\n",
      "Goodbye!\n"
     ]
    }
   ],
   "execution_count": 9
  }
 ],
 "metadata": {
  "kernelspec": {
   "display_name": "Python 3",
   "language": "python",
   "name": "python3"
  },
  "language_info": {
   "codemirror_mode": {
    "name": "ipython",
    "version": 2
   },
   "file_extension": ".py",
   "mimetype": "text/x-python",
   "name": "python",
   "nbconvert_exporter": "python",
   "pygments_lexer": "ipython2",
   "version": "2.7.6"
  }
 },
 "nbformat": 4,
 "nbformat_minor": 5
}
